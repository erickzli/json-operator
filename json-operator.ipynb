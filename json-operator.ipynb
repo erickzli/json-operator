{
 "cells": [
  {
   "cell_type": "code",
   "execution_count": 2,
   "metadata": {},
   "outputs": [],
   "source": [
    "import json\n",
    "import yaml\n",
    "import pandas as pd"
   ]
  },
  {
   "cell_type": "code",
   "execution_count": 3,
   "metadata": {},
   "outputs": [],
   "source": [
    "def json_sorter(data, hier, sortkey, reverse=False):\n",
    "    \"\"\"Sort JSON object based on sortkey provided the hierarchy of the\n",
    "    JSON object structure. Return the sorted dictionary\n",
    "    \"\"\"\n",
    "    for level in hier:\n",
    "        data = data.get(level)\n",
    "    \n",
    "    return sorted(data, key=lambda d: d[sortkey], reverse=reverse)"
   ]
  },
  {
   "cell_type": "code",
   "execution_count": 4,
   "metadata": {},
   "outputs": [],
   "source": [
    "# Open the config YAML file\n",
    "with open('config.yml', 'r') as yml_file:\n",
    "    config_dict = yaml.safe_load(yml_file)\n",
    "\n",
    "input_filename = config_dict.get('Input').get('filename')\n",
    "key_sorted = config_dict.get('Input').get('sortkey')"
   ]
  },
  {
   "cell_type": "code",
   "execution_count": 17,
   "metadata": {},
   "outputs": [
    {
     "name": "stdout",
     "output_type": "stream",
     "text": [
      "['3-D', 'AGILE', 'AI', 'APIs', 'Application Programming Interface', 'B2B', 'B2C', 'Beijing-1', \"Bloom\\\\'s taxonomy\", 'Boolean operators', 'CAVE', 'CORONA', 'CSS', 'Census data', 'Census geography', 'Cliff and Ord', 'Cognitive and social foundations', 'CubeSat', 'DBMS', 'DEM', 'DN value', 'Data Considerations', 'Data Governance', 'Delaunay triangulation', 'Domains of geographic information', 'EOS', 'ESJ', 'Earth geometry', 'Earth observation', 'Edges', 'Electronic Chart Display and Information System (ECDIS)', 'Enabling Infrastructure', 'Esri', 'Euclidean distance', 'FAIR Principles', 'FGDC', 'FOSS', 'FOSS4G', 'Facebook', 'Fifty States Initiative', 'Flickr', 'Friends', 'GA', 'GEOINT', 'GIS Capability Maturity Model', 'GIS Program', 'GIS applications of set theory', 'GIS attribute', 'GIS history', 'GIS in business schools', 'GIS of place', 'GIS&T workforce', 'GISCMM', 'GIScience', 'GNSS', 'GOES', 'GPGPU', 'GPS', 'GPU', 'Game of Life', 'Gantt chart', 'Geo AI', 'GeoAI', 'GeoSPARQL', 'Geographic Information Service', 'Geospatial Computing', 'Geospatial Data Act', 'Geospatial Intelligence', 'Geospatial Management Competency', 'Gestalt psychology', 'Global Positioning System', 'Google Street View', 'Graph Theory', 'Graphics Processing Units', 'HTML', 'Hasse diagrams', 'High Performance Computing', 'History and Trends', 'Huff Model', 'IKONOS', 'Information Technology', 'Internet GIS', 'JavaScript', 'Job Control Language', 'Kin', 'Landsat', 'Law of the Excluded Middle', 'LiDAR', 'MAUP', 'MPI', 'Mainframe', 'Message Passing Interface (MPI) for GIS Applications', 'Minicomputer', 'Model Builder', 'Moran Coefficient', 'NG911', 'NSDI', 'Nautical Cartography', 'Nautical Chart', 'NoSQL databases', 'Nodes', 'Normal Form', 'OGC', 'OSGeo', 'OSM', 'OWL', 'Oceanography', 'Open Data', 'Open Geospatial Consortium', 'Open Standards', 'OpenStreetMap', 'Openness', 'PERT chart', 'POES', 'Philosophical foundations', 'PySAL', 'Python', 'Quickbird', 'R', 'RDBMS', 'RDF', 'RESTful', 'RMSE', 'Relationships', 'S-100', 'SAAS', 'SDI', 'SPARQL', 'SPOT', 'SQL', 'SWOT', 'Safety of Navigation', 'Sentinel', 'SkySat', 'Smart Cities', 'Social Networks', 'Spatial Extension', 'Structure from Motion (SfM)', 'Sun-synchronous orbit', 'Systems Architecture', 'TCPED', 'TIN', 'Thiessen polygons', 'Transaction', 'Twitter', 'UAS', 'UNIX Workstation', 'USGS', 'Uncertainty', 'Urban and regional planning', 'VGI', 'VPL', 'Venn diagrams', 'Voronoi', 'Voronoi diagrams', 'Waterfall', 'Web API', 'Web Application Programming Interface', 'Web scraping', 'Web service', 'ZY-3', 'Zachman Framework', 'abstract data model', 'abstraction', 'academic', 'accessibility', 'accreditation', 'accuracy', 'adaptive cartography', 'administration', 'administrative units', 'advocacy', 'aerial data capture', 'aerial imagery', 'aerial imagery and photogrammetry', 'aerial imagine and photogrammetry', 'aerial imaging and photogrammetry', 'aerial photography', 'aesthetics', 'agent-based models', 'aggregation', 'air photos', 'algorithms and efficiency', 'ambiguity', 'analysis of surfaces', 'analytical reasoning', 'analyzing multidimensional attributes', 'animated maps', 'animation', 'anisotropy', 'anistropy', 'application', 'applied spatial analysis', 'apps', 'archaeology', 'archives', 'area weighted', 'areal interpolation', 'artificial intelligence', 'artworks', 'aspect', 'assumptions', 'automate', 'balance', 'bandwidth', 'bandwidths', 'basic analytical methods', 'basic analytical operations', 'basic measures', 'basic storage and retrieval structures', 'big data', 'binary set relations', 'block groups', 'boundaries', 'bundle block adjustment', 'business', 'business incubation', 'calibration', 'capability', 'cardinal direction', 'cartographic compilation', 'cartographic design', 'cartographic modeling', 'cartographic theory', 'cartography', 'cellular automata', 'certificate', 'certification', 'change maps', 'choropleth maps', 'chronic diseases', 'chronotope', 'citizen science', 'classification', 'clearinghouse', 'cloud computing', 'cloud-based geospatial analysis', 'cluster', 'clustering', 'co-processor', 'co-production of knowledge', 'code of ethics', 'code spring', 'cognition', 'collaboration', 'collection', 'college', 'colocation', 'color', 'color palette', 'color scheme', 'combinatorial compexity', 'commercial', 'commercialization', 'communicable diseases', 'communities', 'community', 'community engagement', 'community participation', 'compactness', 'competence', 'competency model', 'complex systems', 'composition', 'compression', 'computational geometry', 'computational laboratory', 'computational model', 'computational notebook', 'computational workflows', 'computing history', 'computing infrastructures', 'conceptual models for movement and movement spaces', 'conflation', 'construction', 'contiguity', 'continuous data', 'contours', 'contrast', 'coordinate systems', 'coordinate transformation', 'coordinates', 'coordinating organizations', 'coordination', 'cost distance', 'cost-benefit analysis', 'costs', 'countable', 'covariance', 'coverage modeling', 'crime', 'critical GIS', 'critical ethics', 'crowdsourcing', 'customer demand', 'customer profiling', 'cyberGIS', 'cyberinfrastructure', 'dashboard', 'dasymetric mapping', 'data', 'data architecture', 'data capture', 'data collection', 'data dissemination', 'data fusion', 'data integration', 'data mining', 'data modeling', 'data property', 'data quality', 'data science', 'data sharing', 'data smoothing', 'data standard', 'data visualization', 'database', 'database design', 'database management', 'database management systems', 'databases', 'datum', 'datums', 'debug', 'decision making', 'decision support', 'decision-making', 'deep learning', 'deep mapping', 'deep maps', 'degree', 'density based methods', 'density map', 'deploy', 'descriptive models', 'design', 'developable surface', 'development', 'digital elevation model', 'digital humanities', 'digitizing', 'direct projection', 'direction effect', 'disaster organizations', 'disaster policies', 'disaster response', 'disasters', 'discrete data', 'discrete-event simulations', 'disease', 'disruption', 'dissemination', 'dissemination of geospatial information', 'distance', 'distance based methods', 'distance decay', 'distance matrix', 'distortion', 'distributed GIS', 'domains', 'downscaling', 'dynamic models', 'dynamic segmentation', 'dynamic systems', 'dynamic variables', 'eResearch', 'eScience', 'ecological fallacy', 'ecological inference', 'econometrics', 'economic aspects', 'economic aspects, resource planning', 'edge', 'education', 'elements of geographic information', 'elevation', 'elevation data', 'ellipsoid', 'engineering', 'enterprise GIS', 'enumeration', 'environment', 'environmental assessment and monitoring', 'environmental exposure', 'environmental health', 'epidemic modeling', 'epidemiology', 'epistemology', 'equipotential', 'equity', 'equity impact review', 'equity index', 'error', 'error matrix', 'establishment', 'ethical aspects', 'ethics', 'evolutionary computation', 'exploitation', 'exploratory analysis', 'facet', 'feminist critique', 'feminist geography', 'field data collection', 'fields', 'flow', 'flowchart', 'flows', 'flows and networks', 'focal function', 'forecasting', 'forecasts', 'forest', 'forestry management', 'format conversion', 'founding', 'fractals', 'framework', 'free and open source software', 'fuzziness', 'fuzzy sets', 'general-purpose computatoin', 'generalization', 'generalization and aggregation', 'genetic algorithms', 'geo-registration', 'geo-semantic uncertainty', 'geocoding', 'geocomputation', 'geodatabase', 'geodesign', 'geodesy', 'geographic concepts', 'geographic coordinates', 'geographic data', 'geographic information policy', 'geographic processes', 'geographically weighted regression', 'geohistoire', 'geoid', 'geoid models', 'geometric measures', 'geopolitics', 'geoportal', 'geopotential', 'geoprocessing', 'georectification', 'georeference', 'georeferencing', 'georeferencing systems', 'geospatial analysis', 'geospatial big data', 'geospatial cognition', 'geospatial data', 'geospatial data science', 'geospatial data uncertainty', 'geospatial ethics', 'geospatial information as property', 'geospatial interoperability', 'geospatial web services', 'geostationary orbit', 'geostatistics', 'geotag', 'geovisualization', 'gerrymandering', 'gestalt', 'global', 'global studies', 'globalization', 'governance', 'government', 'granularity', 'graphics programming', 'grid coordinates', 'ground control point', 'ground imagery', 'hachures', 'harmony', 'head-mounted display', 'health', 'healthcare', 'heuristic search', 'hierarchy', 'higher education', 'higher-order spatial relation', 'hillshading', 'historical GIS', 'historical photos', 'history', 'history of cartography', 'horizontal datums', 'hot spot analysis', 'hot spot detection', 'human dynamics', 'human mobility', 'human settlements', 'human well-being', 'human-environment interaction', 'humanitarian GIS', 'humanitarian geospatial data', 'humanitarian mapping', 'humanities', 'hydrography', 'hydrology', 'hydrospatial', 'image map', 'imagery', 'immersion', 'imperfections in geographic information', 'indexes', 'indexing', 'indoor localization', 'industry', 'inference', 'information systems design', 'infrastructure', 'institutional and inter-institutional aspects', 'intelligence tradecraft', 'interaction operators', 'interaction primitives', 'interactive design techniques', 'interactive mapping', 'interactive maps', 'international', 'international data', 'international studies', 'internship', 'interoperability', 'interpolation', 'inventory', 'job classifications', 'joining', 'joins', 'kernel', 'knowledge', 'knowledge areas', 'knowledge discovery', 'lag', 'land measurement', 'land ownership', 'land partitioning systems', 'land use change', 'landscape aesthetics', 'landscape analysis', 'landscape architecture', 'landscape ecology', 'landscape metrics', 'law enforcement', 'leadership', 'learning', 'legal aspects', 'level of measurement', 'library', 'license', 'licensure', 'light', 'line data', 'linear programming', 'linear referencing', 'literary cartography', 'local', 'local density', 'local function', 'local government', 'local indicators of spatial association (LISA)', 'local spatial models', 'local spatial statistics', 'location', 'location allocation modelling', 'location analytics', 'location-allocation modeling', 'location-based services', 'logic', 'logistics', 'machine learning', 'management', 'managing the GI system operations and infrastructure', 'many-core parallelism', 'map accuracy', 'map algebra', 'map art', 'map construction', 'map design fundamentals', 'map design techniques', 'map icon', 'map layout', 'map marginalia', 'map overlay', 'map projection', 'map reading', 'map symbol', 'map use', 'mapping stories', 'mapping time', 'mapping uncertainty', 'marginal populations', 'marine', 'marine spatial planning (MSP)', 'maritime big data', 'marketing', 'massively parallel computing', 'matching', 'mathematical modeling', 'matrix', 'maturity', 'mean sea level', 'measurement', 'message passage interface', 'metadata', 'metadata, standards, and infrastructures', 'metaphysics', 'microblogs', 'mitigation', 'mixed pixel', 'mobile', 'mobile GIS', 'mobile apps', 'mobile development', 'mobile devices', 'mobile human-computer interaction', 'mobile interaction', 'mobile map', 'mobility', 'modeling', 'modifiable areal unit problem', 'morality', 'movement', 'movement mining', 'movement patterns', 'moving object databases (MOD)', 'multi-criteria decision analysis', 'multi-scale analysis', 'multiscale', 'multispectral', 'municipal', 'museum', 'nadir', 'narrative mapping', 'natural language processing', 'nautical charts', 'navigation systems', 'near-polar orbit', 'neighborhood', 'neighborhood effects', 'neighborhoods', 'network analysis', 'network distance', 'networks', 'neural networks', 'node', 'normalization', 'ocean', 'on-the-fly projection', 'ontology', 'open', 'open science', 'open source', 'operational advancement', 'operational scale', 'operations', 'optimization', 'optimization and location-allocation modeling', 'organizational assessment', 'organizational structure', 'overlay operation', 'packing', 'panchromatic', 'parallel programming', 'participatory mapping', 'passive sensors', 'patch', 'pattern', 'pattern matching', 'pattern recognition', 'perception', 'performance', 'philosophy', 'photogrammetry', 'pixel', 'place', 'place-based', 'planning', 'planning support systems', 'point data', 'police', 'policy', 'policy analysis', 'politics', 'polynomial warping', 'population', 'positional accuracy', 'positional reference system', 'positivism', 'power', 'practical wisdom', 'practice', 'precision agriculture', 'prediction', 'prediction errors', 'prescriptive models', 'principles of map design', 'privacy', 'probability sampling', 'problem-based learning', 'procedural language', 'process', 'process groups', 'process models', 'processes', 'processing', \"producer\\\\'s accuracy\", 'production', 'profession', 'professional cartography', 'professional certification', 'professional development', 'professional ethics', 'profile', 'programming', 'programming language', 'programming languages and libraries', 'project definition', 'project management', 'project planning', 'projective direction', 'property', 'protected areas', 'proximity', 'public health', 'public participation GIS', 'public policy', 'pulses', 'pychnophylactic', 'qualitative GIS', 'quality', 'quantifying landscapes', 'queries', 'query languages', 'query operations', 'query operations, query languages', 'question answering', 'radar', 'radiance', 'radiometric scale', 'range query', 'raster', 'raster data', 'raster overlay', 'real estate', 'real numbers', 'real-time GIS', 'reasoning', 'recovery', 'recreation', 'redistricting', 'reflectance', 'relational data models', 'relational database', 'relational databases', 'relational model', 'relief shading', 'remote sensing', 'replicability', 'representation', 'representation transformation', 'representing change', 'reproducibility', 'reprojection', 'research', 'resolution', 'response', 'response design', 'responsive design', 'retail', 'rivers', 'roles', 'rule learning', 'sampling design', 'satellite', 'satellite remote sensing', 'satellites', 'scale', 'scanning instruments', 'scenario-based', 'scenarios', 'science', 'science communication', 'scientific paradigms', 'script', 'search', 'security', 'semantics', 'semi-structured text', 'semivariogram', 'sensitivity analysis', 'sensors', 'separation', 'service area delineation', 'set theory', 'shape', 'shapefiles', 'simulation', 'site selection', 'situated knowledge', 'slope', 'small multiples', 'smartphones', 'social clusters', 'social indicators', 'social justice', 'social media', 'social network analysis', 'social sciences', 'socio-technical design', 'software', 'software as a service', 'software development kit', 'software ecosystem', 'software engineering', 'software library', 'software stack', 'soil', 'sources', 'space', 'space-time', 'space-time cube', 'spatial analysis', 'spatial analytics', 'spatial association', 'spatial autocorrelation', 'spatial bias', 'spatial big data', 'spatial busineses', 'spatial cognition', 'spatial context', 'spatial data', 'spatial data infrastructure', 'spatial data management', 'spatial data mining', 'spatial data model', 'spatial data quality', 'spatial data science', 'spatial data structure', 'spatial data uncertainty', 'spatial database', 'spatial dependence', 'spatial econometrics', 'spatial epidemiology', 'spatial equilibrium', 'spatial error', 'spatial heterogeneity', 'spatial humanities', 'spatial interactions', 'spatial join', 'spatial justice', 'spatial lag', 'spatial law and policy', 'spatial models', 'spatial non-stationarity', 'spatial outlier detection', 'spatial patterns', 'spatial prediction', 'spatial process heterogeneity', 'spatial process models', 'spatial process scale', 'spatial queries', 'spatial reference system', 'spatial reference systems', 'spatial regression and econometrics', 'spatial relationships', 'spatial resolution', 'spatial scale', 'spatial social network', 'spatial statistics', 'spatial statistics, geostatistics', 'spatial transformation', 'spatial turn in the humanities', 'spatial uncertainty', 'spatial weights matrix', 'spatio-temporal data', 'spatiotemporal data mining', 'spatiotemporal dynamics', 'spectral band', 'stakeholder engagement', 'stakeholder matrix', 'standards', 'state government', 'static maps', 'statistical learning', 'stewardship', 'strategic advancement', 'strategic planning', 'streaming data', 'street view', 'street-level imagery', 'structured query language', 'structured text', 'style', 'suitability analysis', 'suitability modeling', 'support', 'surveyor', 'symbolization', 'system dynamics', 'systems development life cycle', 'tables', 'tasking', 'teaching', 'technical certification', 'technology transfer', 'temporal', 'temporal GIS', 'temporal scale', 'terrain map', 'tessellation data models', 'tessellatoin', 'test', 'text analytics', 'text mining', 'the scope of GIS&T system design', 'thematic accuracy', 'threshold concept', 'tier', 'time', 'time geography', 'topic modeling', 'topographic quadrangles', 'topological data structures', 'topology', 'toponym disambiguation', 'toponyms', 'tourism', 'tracking data', 'tracts', 'training', 'trajectory analysis', 'transformation', 'transportation', 'triangular irregular network', 'troublesome knowledge', 'typography', 'ubiquitous computing', 'ultra-wide band (UWB)', 'uncertainty visualization', 'university', 'unknowns', 'unmanned aerial systems (UAS)', 'unstructured text', 'urban', 'urban big data', 'usability', 'usability engineering', 'user experience design', 'user interface design', 'user-centered design', \"user\\\\'s accuracy\", 'utilities', 'vagueness', 'validation', 'vector', 'vector and object data models', 'vector data', 'vector overlay', 'version control', 'versioning', 'vertical datum', 'virtual reality', 'virtue ethics', 'visual analytics', 'visual assessment', 'visual communication', 'visual hierarchy', 'visual storytelling', 'visual thinking', 'visual variables', 'visualization', 'volunteered geographic information (VGI)', 'volunteering', 'von Thunen', 'vulnerability', 'water', 'watershed', 'watershed analysis', 'web', 'web GIS', 'web mapping', 'web mapping. web services', 'web maps', 'web services', 'weighted overlay', 'wetlands', 'wilderness', 'wildlife', 'wildlife modeling', 'wireless communication', 'workflow', 'workforce', 'workforce development', 'workshop', 'zonal function', 'zoning']\n",
      "No duplicates?  True\n",
      "1001\n"
     ]
    }
   ],
   "source": [
    "# Open the JSON file\n",
    "json_file = open(input_filename)\n",
    "\n",
    "# Return the JSON object as a dictionary\n",
    "json_data = json.load(json_file)\n",
    "sorted_nodes = json_sorter(json_data, ['tags'], 'name')\n",
    "\n",
    "# Extract the label column to a list\n",
    "nodes_df = pd.DataFrame(sorted_nodes)\n",
    "label_list = nodes_df['name'].tolist()\n",
    "print(label_list)\n",
    "\n",
    "# Verify if there is duplicate\n",
    "print('No duplicates? ', len(label_list) == len(set(label_list)))\n",
    "print(len(set(label_list)))\n",
    "\n",
    "# Close the JSON file\n",
    "json_file.close()"
   ]
  },
  {
   "cell_type": "code",
   "execution_count": null,
   "metadata": {},
   "outputs": [],
   "source": [
    "\n"
   ]
  }
 ],
 "metadata": {
  "kernelspec": {
   "display_name": "Python 3",
   "language": "python",
   "name": "python3"
  },
  "language_info": {
   "codemirror_mode": {
    "name": "ipython",
    "version": 3
   },
   "file_extension": ".py",
   "mimetype": "text/x-python",
   "name": "python",
   "nbconvert_exporter": "python",
   "pygments_lexer": "ipython3",
   "version": "3.11.3"
  },
  "orig_nbformat": 4
 },
 "nbformat": 4,
 "nbformat_minor": 2
}
