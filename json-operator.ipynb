{
 "cells": [
  {
   "cell_type": "code",
   "execution_count": 1,
   "metadata": {},
   "outputs": [],
   "source": [
    "import json\n",
    "import yaml\n",
    "import logging, sys"
   ]
  },
  {
   "cell_type": "code",
   "execution_count": 2,
   "metadata": {},
   "outputs": [],
   "source": [
    "def json_sorter(data, hier, sortkey, reverse=False):\n",
    "    \"\"\"Sort JSON object based on sortkey provided the hierarchy of the\n",
    "    JSON object structure. Return the sorted json file\n",
    "    \"\"\"\n",
    "    for level in hier:\n",
    "        data = data.get(level)\n",
    "    \n",
    "    return sorted(data, key=lambda d: d[sortkey], reverse=reverse)"
   ]
  },
  {
   "cell_type": "code",
   "execution_count": 3,
   "metadata": {},
   "outputs": [
    {
     "name": "stderr",
     "output_type": "stream",
     "text": [
      "DEBUG:root:filename: inputs/bok-new.json\n",
      "DEBUG:root:sorted based on key: label\n"
     ]
    }
   ],
   "source": [
    "# Open the config YAML file\n",
    "with open('config.yml', 'r') as yml_file:\n",
    "    config_dict = yaml.safe_load(yml_file)\n",
    "\n",
    "# Check if we want to be in the debug mode\n",
    "if config_dict.get('LogLevel').get('level') == 'DEBUG': \n",
    "    logging.basicConfig(stream=sys.stderr, level=logging.DEBUG)\n",
    "\n",
    "input_filename = config_dict.get('Input').get('filename')\n",
    "key_sorted = config_dict.get('Input').get('sortkey')\n",
    "\n",
    "logging.debug('filename: ' + input_filename)\n",
    "logging.debug('sorted based on key: ' + key_sorted)"
   ]
  },
  {
   "cell_type": "code",
   "execution_count": 4,
   "metadata": {},
   "outputs": [
    {
     "name": "stderr",
     "output_type": "stream",
     "text": [
      "DEBUG:root:{'label': 'UCGIS GIS&T Body of Knowledge', 'code': '', 'nodeName': '', 'definition': '', 'explanation': '', 'introduction': '', 'imagePath': ''}\n",
      "DEBUG:root:{'label': 'Analytics and Modeling', 'code': '', 'nodeName': 'https://gistbok.ucgis.org/taxonomy/96', 'definition': '', 'explanation': '', 'introduction': '', 'imagePath': ''}\n"
     ]
    }
   ],
   "source": [
    "# Open the JSON file\n",
    "json_file = open(input_filename)\n",
    "\n",
    "# Return the JSON object as a dictionary\n",
    "json_data = json.load(json_file)\n",
    "logging.debug(json_data.get('nodes')[0])\n",
    "sorted_node_list = json_sorter(json_data, ['nodes'], 'label')\n",
    "logging.debug(sorted_node_list[0])\n",
    "\n",
    "# Close the JSON file\n",
    "json_file.close()"
   ]
  },
  {
   "cell_type": "code",
   "execution_count": null,
   "metadata": {},
   "outputs": [],
   "source": []
  }
 ],
 "metadata": {
  "kernelspec": {
   "display_name": "Python 3",
   "language": "python",
   "name": "python3"
  },
  "language_info": {
   "codemirror_mode": {
    "name": "ipython",
    "version": 3
   },
   "file_extension": ".py",
   "mimetype": "text/x-python",
   "name": "python",
   "nbconvert_exporter": "python",
   "pygments_lexer": "ipython3",
   "version": "3.11.3"
  },
  "orig_nbformat": 4
 },
 "nbformat": 4,
 "nbformat_minor": 2
}
