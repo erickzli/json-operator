{
 "cells": [
  {
   "cell_type": "code",
   "execution_count": 5,
   "metadata": {},
   "outputs": [],
   "source": [
    "import json\n",
    "import yaml"
   ]
  },
  {
   "cell_type": "code",
   "execution_count": 6,
   "metadata": {},
   "outputs": [],
   "source": [
    "def json_sorter(data, hier, sortkey, reverse=False):\n",
    "    \"\"\"Sort JSON object based on sortkey provided the hierarchy of the\n",
    "    JSON object structure. Return the sorted dictionary\n",
    "    \"\"\"\n",
    "    for level in hier:\n",
    "        data = data.get(level)\n",
    "    \n",
    "    return sorted(data, key=lambda d: d[sortkey], reverse=reverse)"
   ]
  },
  {
   "cell_type": "code",
   "execution_count": 7,
   "metadata": {},
   "outputs": [],
   "source": [
    "# Open the config YAML file\n",
    "with open('config.yml', 'r') as yml_file:\n",
    "    config_dict = yaml.safe_load(yml_file)\n",
    "\n",
    "input_filename = config_dict.get('Input').get('filename')\n",
    "key_sorted = config_dict.get('Input').get('sortkey')"
   ]
  },
  {
   "cell_type": "code",
   "execution_count": 9,
   "metadata": {},
   "outputs": [
    {
     "name": "stdout",
     "output_type": "stream",
     "text": [
      "First node is:  {'label': 'Analytics and Modeling', 'code': '', 'nodeName': 'https://gistbok.ucgis.org/taxonomy/96', 'definition': '', 'explanation': '', 'introduction': '', 'imagePath': ''}\n"
     ]
    }
   ],
   "source": [
    "# Open the JSON file\n",
    "json_file = open(input_filename)\n",
    "\n",
    "# Return the JSON object as a dictionary\n",
    "json_data = json.load(json_file)\n",
    "sorted_nodes = json_sorter(json_data, ['nodes'], 'label')\n",
    "print('First sorted node is: ', sorted_nodes[0])\n",
    "\n",
    "# Close the JSON file\n",
    "json_file.close()"
   ]
  },
  {
   "cell_type": "code",
   "execution_count": null,
   "metadata": {},
   "outputs": [],
   "source": []
  }
 ],
 "metadata": {
  "kernelspec": {
   "display_name": "Python 3",
   "language": "python",
   "name": "python3"
  },
  "language_info": {
   "codemirror_mode": {
    "name": "ipython",
    "version": 3
   },
   "file_extension": ".py",
   "mimetype": "text/x-python",
   "name": "python",
   "nbconvert_exporter": "python",
   "pygments_lexer": "ipython3",
   "version": "3.11.3"
  },
  "orig_nbformat": 4
 },
 "nbformat": 4,
 "nbformat_minor": 2
}
